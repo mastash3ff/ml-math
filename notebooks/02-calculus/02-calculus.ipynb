{
 "cells": [
  {
   "cell_type": "markdown",
   "metadata": {},
   "source": [
    "# Introduction to Calculus for Applied Machine Learning and Data Science with Python"
   ]
  },
  {
   "cell_type": "markdown",
   "metadata": {},
   "source": [
    "This is part II of my [\"Essential Mathematics for Applied Machine Learning and Data Science\"](https://github.com/pabloinsente/math-app-ml) series. The first part on Linear Algebra can be found [here](https://pabloinsente.github.io/intro-linear-algebra) and [here](https://github.com/pabloinsente/math-app-ml/tree/master/notebooks/01-linear-algebra). The Linear Algebra section is around 25,000 words, so it's a long read considering it's math tutorial and not an *essay* or *novelette*. As a reference, Kafka's \"The Metamorphosis\" has 16,473 words, and Hemingway's \"The Old Man and The Sea\" has 35,220 words. From the Linear Algebra section, I recommend to read the very short [\"Preliminary section\"](https://pabloinsente.github.io/intro-linear-algebra#preliminary-concepts) contents before this part, as it covers a few basic notions of set theory.\n",
    "\n",
    "This document contains **introductory level calculus notes with applied machine learning and data science in mind**. Notice that part I of this series, the linear algebra section, is framed as notes for applied machine learning only. I've added \"data science\" to the tittle basically because machine learning is one of the many tools of data science, and because I think people who is trying to learn about data science may benefit from this. A less poetic but honest reason is I think more people may pay attention to this if I add the word \"data science\".\n",
    "\n",
    "**I have never taken a single class on calculus**. I did learn a bit of differential calculus \"on the fly\" for my microeconomics classes during my first masters degree. It turns out that in Chile, calculus is considered a college level subject in 99% of public schools. I mentioning this so you are warned that I'm no expert. I'm just very oblivious to the fact I don't possess the credentials to do some things, like helping others to learn about math. \n",
    "\n",
    "My notes are not meant to be comprehensive. Rather, **I aim to organize what I consider to be the essential topics on calculus for applied ML and data science**. I'll cover topics on *differential calculus*, *integral calculus*, and *vector calculus*. In my experience, calculus reviews for ML and Data Science tend to ignore integral calculus as it is not widely use in deep learning, which is what most learning is interested about nowadays. Yet, I consider integral calculus to be part of the essential contents that ML and data science practioners should know about. If you take a quick view to Murphy's \"Machine Learning: A Probabilistic Perspective\" or any applied stats books you'll see why.  \n",
    "\n",
    "The sources I'll utilize are mostly freely available texbooks and video lectures. If you want to obtain a deeper understanding or to find exercises for each topic, you may want to consult those sources directly.\n",
    "\n",
    "**Free resources**:\n",
    "\n",
    "- Mathematics for Machine Learning by Deisenroth, Faisal, and Ong. 1st Ed. [Book link](https://mml-book.github.io/).\n",
    "- Calculus made easy by Silvanus Thompson. 2nd Ed. [Book link](https://www.gutenberg.org/files/33283/33283-pdf.pdf)\n",
    "- Elementary Calculus. An Infinitesimal Approach. by  H. Jerome Keisler. 2nd Ed. [Book link](https://www.math.wisc.edu/~keisler/keislercalc-03-07-17.pdf)\n",
    "- Salman Khan’s CalculusLectures at Khan Academy. [Videos link](https://www.khanacademy.org/math/calculus-1).\n",
    "- 3blue1brown’s Calculus Series at YouTube. [Videos link](https://www.youtube.com/playlist?list=PLZHQObOWTQDMsr9K-rj53DwVRMYO3t5Yr).\n",
    "- MIT 18.01 Single Variable Calculus by Prof. David Jerison. [Video link](https://ocw.mit.edu/courses/mathematics/18-01sc-single-variable-calculus-fall-2010/)\n",
    "\n",
    "**Not-free resources**:\n",
    "\n",
    "- Vector Calculus, Linear Algebra, and Differential Forms by Hubbard and Burke Hubbard\n",
    "- Calculus with Analytic Geometry by George F. Simmons. 2nd Ed. \n",
    "\n",
    "There so many texbooks, video lectures, and online resources that I have a hard time deciding on putting the effort to create this. What finally push me to do it was [how many people liked](https://twitter.com/CodeBug88/status/1265408434016583680) the Linear Algebra chapter, and the fact the I learn better just by creating content rather than by trying to absorb someone elses.\n",
    "\n",
    "Be aware that the target audience for this notes is people like me: probably with little to non formal mathematical training beyond high school, who wants to learn about calculus primarily as a tool rather than by pure aesthetic pleasure. This is why my style is conversational and informal, and pretty much no proofs are introduced.  "
   ]
  },
  {
   "cell_type": "markdown",
   "metadata": {},
   "source": [
    "# Table of contents"
   ]
  },
  {
   "cell_type": "markdown",
   "metadata": {},
   "source": [
    "**What is calculus all about: overcomming mathematical trauma**\n",
    "\n",
    "**Functions**:\n",
    "- Functions of one variable\n",
    "- Functions of two variables\n",
    "\n",
    "\n",
    "**Differential Calculus**\n",
    "\n",
    "**Integral Calculus**\n",
    "\n",
    "**Vector Calculus** "
   ]
  },
  {
   "cell_type": "markdown",
   "metadata": {},
   "source": [
    "# What is calculus all about: overcomming mathematical trauma"
   ]
  },
  {
   "cell_type": "markdown",
   "metadata": {},
   "source": [
    "I often read about calculus as a source of distress, agony, and frustration for high-school and college students. If I wouldn't know already what calculus is, I would think that it's some form of psychological torture rather than intermediate level mathematics. True to be told, I don't know how it feels because calculus was not a subject during my high-school or college years. I do know, though, about the profound sense of confusion that many people experience when facing expressions like: \n",
    "\n",
    "$$\n",
    "\\frac{\\partial E}{\\partial w^L} = \\frac{\\partial E}{\\partial a^L} \\times \\frac{\\partial a^L}{\\partial w^L} \\times \\frac{\\partial w^L}{\\partial z^L} \n",
    "$$\n",
    "\n",
    "or \n",
    "\n",
    "$$\n",
    "Pr(x \\in \\textit{A}) = \\int_{\\textit{A}} \\rho(x)dx\n",
    "$$\n",
    "\n",
    "In the past I'd just have skipped that part and convice myself that understanding such alien expression actually does not matter. **\"I'm no mathematician\"** or **\"meh, the computer will do it for me\"**, is what I would often think to myself. I do beleive that there is some element of true in my reaction: in applied setting, you would seldom compute a derivative or integral, and for the most part, you can get by just ignoring equations. However, as I advanced in my studies, I realized that my inability to both **read** and **understand the mathematical ideas** behind such expression, was significantly limiting my ability to **learn** and **apply new and better methods** in my work. After all, math is a languague that allows for the precise expression of useful ideas, not just a mean to confuse and scare people (although some instructors seems to enjoy that). \n",
    "\n",
    "In calculus, there are two main branches of study: **differential calculus** and **integral calculus**. \n",
    "\n",
    "**Differential calculus** is concerned with *how something change in response to some other thing changing by a tiny bit*, or the *difference in something in relation to a minuscule change in  some other thing*. That \"something\" and \"some other thing\" can be almost anything. Typical examples are the area of a surface like circle (the \"something\") in response to a tiny increase in its radius (the \"some other thing\"), or the speed at which some object like a coconut falls from a cocotero (the \"something\") at some point in time (the \"some other thing\"). Basically, differential calculus is called like that because to understand change, you have to evaluate the \"difference\" between two points or instances of something. This is why differential calculus cares about \"variables\" and not \"constants\". If something can't change, calculus has nothing to do with that. \n",
    "\n",
    "In the context of machine learning, a typical example for differential calculus would be the rate at which the \"error\" or \"cost\" changes in response to a tiny change in the parameters of a neural network. I'll leave the \"tiny bit\" or \"minuscule\" part undefined for now, but this will be clarified in the differential calculus section. Just think in the smallest possible quantity you can conceive for the moment. \n",
    "\n",
    "Differential calculus notation is a bit of a nightmare because there are multiple notations floating around texbooks and the internet. I'll cover notation at lenght later on, but for now I will use Leibniz's notation, which as a side note, was one of the individuals who invented calculus independently along with Isaac Newton. Leibniz's denoted differentiation simply as:\n",
    "\n",
    "$$\n",
    "d\n",
    "$$\n",
    "\n",
    "Which means \"a little bit of\", or \"a small fraction of\", or more elegantly, \"an element of\". Mathematicians use $d$ just because writing \"a little bit\" each time is tiring and inelegant. Further, we add the \"some other thing\" to our expression as:\n",
    "\n",
    "$$\n",
    "\\frac{dy}{dx}\n",
    "$$\n",
    "\n",
    "Which means \"the change in $y$ in response to a tiny change in $x$\", but is commonly read as: \"dee-wy by dee-eks\" or \"dee-wy over dee-eks\" or \"the derivative of wy with respect to (w.r.t) eks\".\n",
    "\n",
    "**Integral calculus** is concerned with *computing the aggregated effect of things changing in response to some other things changing, within an interval*. Hence, the opposite or complement of differential calculus. You may find some instructors and texbooks defining integral calculus as the process of \"*computing the area under the curve*\", which is correct, but that does not say much to me. What the heck is the thing \"under the curve\" anyways? Right? Well, to reiterate, it represents **the cummulative effect of something onto something else during an interval**, or the cummulative \"change\" if you will. Typical examples are anything that accumulates over time, like money in a bank account or water in a pool (the accumulated \"thing\") in response to or as time passes (the \"other thing\"). In the context of machine learning, probability density functions are a place where you will find integrals all over the place. \n",
    "\n",
    "Fortunately, integral calculus notation is more consistent than differential calculus notation. The symbol for integration is:\n",
    "\n",
    "$$\n",
    "\\int\n",
    "$$\n",
    "\n",
    "Which is a long and stylized $S$ (who would have thought?), which means \"the sum of\" or \"the aggregation of\" or \"the integration of\". \n",
    "\n",
    "$$\n",
    "\\int dx\n",
    "$$\n",
    "\n",
    "Simply means \"the sum of all little bits of $x$\" or \"the aggregation of all little bits of $x$\" or \"the integration of all little bits of $x$\". More commonly, it read as: \"the integral of eks\".\n",
    "\n",
    "In my experience, one of the keys to overcome math trauma is going back to the fundamentals. Beginning with something as simple as learning to read expression like $\\frac{dy}{dx}$ and $\\int dx$ is an step forward for self-healing."
   ]
  },
  {
   "cell_type": "markdown",
   "metadata": {},
   "source": [
    "# Functions"
   ]
  },
  {
   "cell_type": "markdown",
   "metadata": {},
   "source": [
    "Calculus is thighly related to the notion of a **function**. In the previous section, I repeatedly mentioned \"in response to\" which suggest some form of relationship among quantities or processes. Plainly put, **functions are formulas expressing the rules governing how two quantities, processes, or \"things\" relate to each other**. Another way to see functions is as **input-output mapping machines**: give them a value $x$ (the \"input\"), and the machine will map such value onto $y$ (the \"output\"), by applying a set of predefined procedures (the \"rules\"). "
   ]
  },
  {
   "cell_type": "markdown",
   "metadata": {},
   "source": [
    "## Functions of one variable"
   ]
  },
  {
   "cell_type": "markdown",
   "metadata": {},
   "source": [
    "More formally, the notion of a function arises from set theory. In short, *sets are collections of unique elements* (i.e., elements can't repeat), and a function $\\textit{f}$ is a *relation* between the set $\\textit{X}$ and another set $\\textit{Y}$. In set theory, relations are unique pairs of elements from $\\textit{X}$ and $\\textit{Y}$, meaning that $\\textit{f}$ is a set of ordered pairs. Therefore, two things can happen for valid functions in $\\mathbb{R}$ for one variable:\n",
    "\n",
    "1. **the function relates each element of $\\textit{X}$ with one and only one element of $\\textit{Y}$, forming a set of ordered pairs $(x, y)$**.  \n",
    "2. **there is no real number $y$ for which the ordered set $(x, y)$ is defined, which implies that $f(y)$ is undefined**.\n",
    "\n",
    "Notice that *undefined* is valid for a function, but having multiple in $\\textit{Y}$ associated to a single value in $\\textit{X}$ is not.\n",
    "\n",
    "We typically denote a relation or function or transformation or mapping from $\\textit{X}$ onto $\\textit{Y}$ as:\n",
    "\n",
    "$$\n",
    "\\textit{f}: \\textit{X} \\rightarrow \\textit{Y}\n",
    "$$\n",
    "\n",
    "or \n",
    "\n",
    "$$\n",
    "\\textit{f}(x) = y\n",
    "$$\n",
    "\n",
    "The simplest way to see the effect of this definition of a function is with a chart. In **Fig. 1**, the left-pane shows a valid function, i.e., each value $\\textit{f}(x)$ maps *uniquely onto one value* of y. The right-pane is not a function, since each value $\\textit{f}(x)$ maps onto *multiple values* of y."
   ]
  },
  {
   "cell_type": "markdown",
   "metadata": {},
   "source": [
    "**Fig. 1: Functions**"
   ]
  },
  {
   "cell_type": "markdown",
   "metadata": {},
   "source": [
    "<img src=\"./images/b-function.svg\">"
   ]
  },
  {
   "cell_type": "markdown",
   "metadata": {},
   "source": [
    "Let's examine a couple of examples. \n",
    "\n",
    "Consider the following function: \n",
    "\n",
    "$$\n",
    "y = \\textit{f}(x) = x^2\n",
    "$$\n",
    "\n",
    "In words, this is simply saying: take a value from $\\textit{X}$ as an input, and return the square of such value. \n",
    "\n",
    "Here is another example:\n",
    "\n",
    "$$\n",
    "y = \\textit{f}(x) = \\log_e(x)\n",
    "$$\n",
    "\n",
    "This translates to: take a value from $\\textit{X}$ as an input, and return the base $e$ logarithm of such value.\n",
    "\n",
    "Notice that athough $\\textit{f}$ is the conventional way to denote functions, we can use any letter, and some letters are conventionally used in several subjects. For instance, in machine learning is common to denote a *Cost function*, or *Loss function*, or *Error function* as $\\textit{C}(\\theta)$, or $\\textit{L}(\\theta)$, or $\\textit{E}(\\theta)$, respectively.  "
   ]
  },
  {
   "cell_type": "markdown",
   "metadata": {},
   "source": [
    "## Domain and range"
   ]
  },
  {
   "cell_type": "markdown",
   "metadata": {},
   "source": [
    "These two definitions are simply yet important:\n",
    "\n",
    "1. The **domain** is the set of all valid inputs over which the function $\\textit{f}$ is defined.\n",
    "\n",
    "2. The **range** is the set of all possible outputs of function $\\textit{f}$ where x is a valid input, i.e., is in its domain.\n",
    "\n",
    "For instance, the domain of the square function $\\textit{f}(x)=x^2$ is the set of all numbers in $\\textit{R}$. If this sounds overinclusive, just observe that you can pass any real valued number to $\\textit{f}(x)=x^2$ and it maps onto a distinct output. The range of $\\textit{f}(x)=x^2$ is the interval $[0, \\infty)$, which is easy to see as any number squared is going to be positive. \n",
    "\n",
    "Another example. The domain of the log function $\\textit{f}(x) = \\log_e(x)$ is the set of values $(0, \\infty)$, because the log is undefined for negative numbers. The range of $\\textit{f}(x) = \\log_e(x)$ is the set of all numbers in $\\textit{R}$ or $(-\\infty, \\infty)$. \n",
    "\n",
    "Again, this is easier to see by looking at the prototypical graph of a the function. Let's use a bit of `Python` to make things more interesting:"
   ]
  },
  {
   "cell_type": "code",
   "execution_count": 1,
   "metadata": {},
   "outputs": [
    {
     "data": {
      "text/plain": [
       "ThemeRegistry.enable('dark')"
      ]
     },
     "execution_count": 1,
     "metadata": {},
     "output_type": "execute_result"
    }
   ],
   "source": [
    "import pandas as pd\n",
    "import altair as alt\n",
    "import numpy as np\n",
    "alt.themes.enable('dark')"
   ]
  },
  {
   "cell_type": "code",
   "execution_count": 2,
   "metadata": {},
   "outputs": [
    {
     "data": {
      "text/html": [
       "\n",
       "<div id=\"altair-viz-acef38f9cd5a49a89bb4b091abe26159\"></div>\n",
       "<script type=\"text/javascript\">\n",
       "  (function(spec, embedOpt){\n",
       "    let outputDiv = document.currentScript.previousElementSibling;\n",
       "    if (outputDiv.id !== \"altair-viz-acef38f9cd5a49a89bb4b091abe26159\") {\n",
       "      outputDiv = document.getElementById(\"altair-viz-acef38f9cd5a49a89bb4b091abe26159\");\n",
       "    }\n",
       "    const paths = {\n",
       "      \"vega\": \"https://cdn.jsdelivr.net/npm//vega@5?noext\",\n",
       "      \"vega-lib\": \"https://cdn.jsdelivr.net/npm//vega-lib?noext\",\n",
       "      \"vega-lite\": \"https://cdn.jsdelivr.net/npm//vega-lite@4.8.1?noext\",\n",
       "      \"vega-embed\": \"https://cdn.jsdelivr.net/npm//vega-embed@6?noext\",\n",
       "    };\n",
       "\n",
       "    function loadScript(lib) {\n",
       "      return new Promise(function(resolve, reject) {\n",
       "        var s = document.createElement('script');\n",
       "        s.src = paths[lib];\n",
       "        s.async = true;\n",
       "        s.onload = () => resolve(paths[lib]);\n",
       "        s.onerror = () => reject(`Error loading script: ${paths[lib]}`);\n",
       "        document.getElementsByTagName(\"head\")[0].appendChild(s);\n",
       "      });\n",
       "    }\n",
       "\n",
       "    function showError(err) {\n",
       "      outputDiv.innerHTML = `<div class=\"error\" style=\"color:red;\">${err}</div>`;\n",
       "      throw err;\n",
       "    }\n",
       "\n",
       "    function displayChart(vegaEmbed) {\n",
       "      vegaEmbed(outputDiv, spec, embedOpt)\n",
       "        .catch(err => showError(`Javascript Error: ${err.message}<br>This usually means there's a typo in your chart specification. See the javascript console for the full traceback.`));\n",
       "    }\n",
       "\n",
       "    if(typeof define === \"function\" && define.amd) {\n",
       "      requirejs.config({paths});\n",
       "      require([\"vega-embed\"], displayChart, err => showError(`Error loading script: ${err.message}`));\n",
       "    } else if (typeof vegaEmbed === \"function\") {\n",
       "      displayChart(vegaEmbed);\n",
       "    } else {\n",
       "      loadScript(\"vega\")\n",
       "        .then(() => loadScript(\"vega-lite\"))\n",
       "        .then(() => loadScript(\"vega-embed\"))\n",
       "        .catch(showError)\n",
       "        .then(() => displayChart(vegaEmbed));\n",
       "    }\n",
       "  })({\"usermeta\": {\"embedOptions\": {\"theme\": \"dark\"}}, \"config\": {\"view\": {\"continuousWidth\": 400, \"continuousHeight\": 300}}, \"hconcat\": [{\"mark\": {\"type\": \"line\", \"color\": \"green\"}, \"encoding\": {\"x\": {\"type\": \"quantitative\", \"field\": \"x1\"}, \"y\": {\"type\": \"quantitative\", \"field\": \"Square-function\"}}, \"height\": 300, \"width\": 300}, {\"mark\": {\"type\": \"line\", \"color\": \"pink\"}, \"encoding\": {\"x\": {\"type\": \"quantitative\", \"field\": \"x2\"}, \"y\": {\"type\": \"quantitative\", \"field\": \"Log-function\"}}, \"height\": 300, \"width\": 300}], \"data\": {\"name\": \"data-fb204848e35164870fb8acf24a38f465\"}, \"$schema\": \"https://vega.github.io/schema/vega-lite/v4.8.1.json\", \"datasets\": {\"data-fb204848e35164870fb8acf24a38f465\": [{\"x1\": -50, \"x2\": 1, \"Square-function\": 2500, \"Log-function\": 0.0}, {\"x1\": -49, \"x2\": 2, \"Square-function\": 2401, \"Log-function\": 0.6931471805599453}, {\"x1\": -48, \"x2\": 3, \"Square-function\": 2304, \"Log-function\": 1.0986122886681098}, {\"x1\": -47, \"x2\": 4, \"Square-function\": 2209, \"Log-function\": 1.3862943611198906}, {\"x1\": -46, \"x2\": 5, \"Square-function\": 2116, \"Log-function\": 1.6094379124341003}, {\"x1\": -45, \"x2\": 6, \"Square-function\": 2025, \"Log-function\": 1.791759469228055}, {\"x1\": -44, \"x2\": 7, \"Square-function\": 1936, \"Log-function\": 1.9459101490553132}, {\"x1\": -43, \"x2\": 8, \"Square-function\": 1849, \"Log-function\": 2.0794415416798357}, {\"x1\": -42, \"x2\": 9, \"Square-function\": 1764, \"Log-function\": 2.1972245773362196}, {\"x1\": -41, \"x2\": 10, \"Square-function\": 1681, \"Log-function\": 2.302585092994046}, {\"x1\": -40, \"x2\": 11, \"Square-function\": 1600, \"Log-function\": 2.3978952727983707}, {\"x1\": -39, \"x2\": 12, \"Square-function\": 1521, \"Log-function\": 2.4849066497880004}, {\"x1\": -38, \"x2\": 13, \"Square-function\": 1444, \"Log-function\": 2.5649493574615367}, {\"x1\": -37, \"x2\": 14, \"Square-function\": 1369, \"Log-function\": 2.6390573296152584}, {\"x1\": -36, \"x2\": 15, \"Square-function\": 1296, \"Log-function\": 2.70805020110221}, {\"x1\": -35, \"x2\": 16, \"Square-function\": 1225, \"Log-function\": 2.772588722239781}, {\"x1\": -34, \"x2\": 17, \"Square-function\": 1156, \"Log-function\": 2.833213344056216}, {\"x1\": -33, \"x2\": 18, \"Square-function\": 1089, \"Log-function\": 2.8903717578961645}, {\"x1\": -32, \"x2\": 19, \"Square-function\": 1024, \"Log-function\": 2.9444389791664403}, {\"x1\": -31, \"x2\": 20, \"Square-function\": 961, \"Log-function\": 2.995732273553991}, {\"x1\": -30, \"x2\": 21, \"Square-function\": 900, \"Log-function\": 3.044522437723423}, {\"x1\": -29, \"x2\": 22, \"Square-function\": 841, \"Log-function\": 3.091042453358316}, {\"x1\": -28, \"x2\": 23, \"Square-function\": 784, \"Log-function\": 3.1354942159291497}, {\"x1\": -27, \"x2\": 24, \"Square-function\": 729, \"Log-function\": 3.1780538303479458}, {\"x1\": -26, \"x2\": 25, \"Square-function\": 676, \"Log-function\": 3.2188758248682006}, {\"x1\": -25, \"x2\": 26, \"Square-function\": 625, \"Log-function\": 3.258096538021482}, {\"x1\": -24, \"x2\": 27, \"Square-function\": 576, \"Log-function\": 3.295836866004329}, {\"x1\": -23, \"x2\": 28, \"Square-function\": 529, \"Log-function\": 3.332204510175204}, {\"x1\": -22, \"x2\": 29, \"Square-function\": 484, \"Log-function\": 3.367295829986474}, {\"x1\": -21, \"x2\": 30, \"Square-function\": 441, \"Log-function\": 3.4011973816621555}, {\"x1\": -20, \"x2\": 31, \"Square-function\": 400, \"Log-function\": 3.4339872044851463}, {\"x1\": -19, \"x2\": 32, \"Square-function\": 361, \"Log-function\": 3.4657359027997265}, {\"x1\": -18, \"x2\": 33, \"Square-function\": 324, \"Log-function\": 3.4965075614664802}, {\"x1\": -17, \"x2\": 34, \"Square-function\": 289, \"Log-function\": 3.5263605246161616}, {\"x1\": -16, \"x2\": 35, \"Square-function\": 256, \"Log-function\": 3.5553480614894135}, {\"x1\": -15, \"x2\": 36, \"Square-function\": 225, \"Log-function\": 3.58351893845611}, {\"x1\": -14, \"x2\": 37, \"Square-function\": 196, \"Log-function\": 3.6109179126442243}, {\"x1\": -13, \"x2\": 38, \"Square-function\": 169, \"Log-function\": 3.6375861597263857}, {\"x1\": -12, \"x2\": 39, \"Square-function\": 144, \"Log-function\": 3.6635616461296463}, {\"x1\": -11, \"x2\": 40, \"Square-function\": 121, \"Log-function\": 3.6888794541139363}, {\"x1\": -10, \"x2\": 41, \"Square-function\": 100, \"Log-function\": 3.713572066704308}, {\"x1\": -9, \"x2\": 42, \"Square-function\": 81, \"Log-function\": 3.7376696182833684}, {\"x1\": -8, \"x2\": 43, \"Square-function\": 64, \"Log-function\": 3.7612001156935624}, {\"x1\": -7, \"x2\": 44, \"Square-function\": 49, \"Log-function\": 3.784189633918261}, {\"x1\": -6, \"x2\": 45, \"Square-function\": 36, \"Log-function\": 3.8066624897703196}, {\"x1\": -5, \"x2\": 46, \"Square-function\": 25, \"Log-function\": 3.828641396489095}, {\"x1\": -4, \"x2\": 47, \"Square-function\": 16, \"Log-function\": 3.8501476017100584}, {\"x1\": -3, \"x2\": 48, \"Square-function\": 9, \"Log-function\": 3.871201010907891}, {\"x1\": -2, \"x2\": 49, \"Square-function\": 4, \"Log-function\": 3.8918202981106265}, {\"x1\": -1, \"x2\": 50, \"Square-function\": 1, \"Log-function\": 3.912023005428146}, {\"x1\": 0, \"x2\": 51, \"Square-function\": 0, \"Log-function\": 3.9318256327243257}, {\"x1\": 1, \"x2\": 52, \"Square-function\": 1, \"Log-function\": 3.9512437185814275}, {\"x1\": 2, \"x2\": 53, \"Square-function\": 4, \"Log-function\": 3.970291913552122}, {\"x1\": 3, \"x2\": 54, \"Square-function\": 9, \"Log-function\": 3.9889840465642745}, {\"x1\": 4, \"x2\": 55, \"Square-function\": 16, \"Log-function\": 4.007333185232471}, {\"x1\": 5, \"x2\": 56, \"Square-function\": 25, \"Log-function\": 4.02535169073515}, {\"x1\": 6, \"x2\": 57, \"Square-function\": 36, \"Log-function\": 4.04305126783455}, {\"x1\": 7, \"x2\": 58, \"Square-function\": 49, \"Log-function\": 4.060443010546419}, {\"x1\": 8, \"x2\": 59, \"Square-function\": 64, \"Log-function\": 4.07753744390572}, {\"x1\": 9, \"x2\": 60, \"Square-function\": 81, \"Log-function\": 4.0943445622221}, {\"x1\": 10, \"x2\": 61, \"Square-function\": 100, \"Log-function\": 4.110873864173311}, {\"x1\": 11, \"x2\": 62, \"Square-function\": 121, \"Log-function\": 4.127134385045092}, {\"x1\": 12, \"x2\": 63, \"Square-function\": 144, \"Log-function\": 4.143134726391533}, {\"x1\": 13, \"x2\": 64, \"Square-function\": 169, \"Log-function\": 4.1588830833596715}, {\"x1\": 14, \"x2\": 65, \"Square-function\": 196, \"Log-function\": 4.174387269895637}, {\"x1\": 15, \"x2\": 66, \"Square-function\": 225, \"Log-function\": 4.189654742026425}, {\"x1\": 16, \"x2\": 67, \"Square-function\": 256, \"Log-function\": 4.204692619390966}, {\"x1\": 17, \"x2\": 68, \"Square-function\": 289, \"Log-function\": 4.219507705176107}, {\"x1\": 18, \"x2\": 69, \"Square-function\": 324, \"Log-function\": 4.23410650459726}, {\"x1\": 19, \"x2\": 70, \"Square-function\": 361, \"Log-function\": 4.248495242049359}, {\"x1\": 20, \"x2\": 71, \"Square-function\": 400, \"Log-function\": 4.2626798770413155}, {\"x1\": 21, \"x2\": 72, \"Square-function\": 441, \"Log-function\": 4.276666119016055}, {\"x1\": 22, \"x2\": 73, \"Square-function\": 484, \"Log-function\": 4.290459441148391}, {\"x1\": 23, \"x2\": 74, \"Square-function\": 529, \"Log-function\": 4.30406509320417}, {\"x1\": 24, \"x2\": 75, \"Square-function\": 576, \"Log-function\": 4.31748811353631}, {\"x1\": 25, \"x2\": 76, \"Square-function\": 625, \"Log-function\": 4.330733340286331}, {\"x1\": 26, \"x2\": 77, \"Square-function\": 676, \"Log-function\": 4.343805421853684}, {\"x1\": 27, \"x2\": 78, \"Square-function\": 729, \"Log-function\": 4.356708826689592}, {\"x1\": 28, \"x2\": 79, \"Square-function\": 784, \"Log-function\": 4.3694478524670215}, {\"x1\": 29, \"x2\": 80, \"Square-function\": 841, \"Log-function\": 4.382026634673881}, {\"x1\": 30, \"x2\": 81, \"Square-function\": 900, \"Log-function\": 4.394449154672439}, {\"x1\": 31, \"x2\": 82, \"Square-function\": 961, \"Log-function\": 4.406719247264253}, {\"x1\": 32, \"x2\": 83, \"Square-function\": 1024, \"Log-function\": 4.418840607796598}, {\"x1\": 33, \"x2\": 84, \"Square-function\": 1089, \"Log-function\": 4.430816798843313}, {\"x1\": 34, \"x2\": 85, \"Square-function\": 1156, \"Log-function\": 4.442651256490317}, {\"x1\": 35, \"x2\": 86, \"Square-function\": 1225, \"Log-function\": 4.454347296253507}, {\"x1\": 36, \"x2\": 87, \"Square-function\": 1296, \"Log-function\": 4.465908118654584}, {\"x1\": 37, \"x2\": 88, \"Square-function\": 1369, \"Log-function\": 4.477336814478207}, {\"x1\": 38, \"x2\": 89, \"Square-function\": 1444, \"Log-function\": 4.48863636973214}, {\"x1\": 39, \"x2\": 90, \"Square-function\": 1521, \"Log-function\": 4.499809670330265}, {\"x1\": 40, \"x2\": 91, \"Square-function\": 1600, \"Log-function\": 4.51085950651685}, {\"x1\": 41, \"x2\": 92, \"Square-function\": 1681, \"Log-function\": 4.5217885770490405}, {\"x1\": 42, \"x2\": 93, \"Square-function\": 1764, \"Log-function\": 4.532599493153256}, {\"x1\": 43, \"x2\": 94, \"Square-function\": 1849, \"Log-function\": 4.543294782270004}, {\"x1\": 44, \"x2\": 95, \"Square-function\": 1936, \"Log-function\": 4.553876891600541}, {\"x1\": 45, \"x2\": 96, \"Square-function\": 2025, \"Log-function\": 4.564348191467836}, {\"x1\": 46, \"x2\": 97, \"Square-function\": 2116, \"Log-function\": 4.574710978503383}, {\"x1\": 47, \"x2\": 98, \"Square-function\": 2209, \"Log-function\": 4.584967478670572}, {\"x1\": 48, \"x2\": 99, \"Square-function\": 2304, \"Log-function\": 4.59511985013459}, {\"x1\": 49, \"x2\": 100, \"Square-function\": 2401, \"Log-function\": 4.605170185988092}]}}, {\"mode\": \"vega-lite\"});\n",
       "</script>"
      ],
      "text/plain": [
       "alt.HConcatChart(...)"
      ]
     },
     "execution_count": 2,
     "metadata": {},
     "output_type": "execute_result"
    }
   ],
   "source": [
    "x1 = np.arange(-50, 50)\n",
    "x2 = np.arange(1, 101)\n",
    "\n",
    "source = pd.DataFrame({'x1':x1,\n",
    "                       'x2':x2,\n",
    "                       'Square-function':np.power(x1, 2),\n",
    "                       'Log-function':np.log(x2)})\n",
    "\n",
    "chart1 = alt.Chart(source).mark_line(color='green').encode(\n",
    "            x='x1',\n",
    "            y='Square-function')\n",
    "\n",
    "chart2 = alt.Chart(source).mark_line(color='pink').encode(\n",
    "            x='x2',\n",
    "            y='Log-function')\n",
    "\n",
    "\n",
    "(chart1.properties(width=300, height=300) | chart2.properties(width=300, height=300))"
   ]
  },
  {
   "cell_type": "markdown",
   "metadata": {},
   "source": [
    "## Functions of two variables"
   ]
  },
  {
   "cell_type": "markdown",
   "metadata": {},
   "source": [
    "The conditions for valid functions for two variables are essentially the same that for one, but instead of pairs, now we have triplets:\n",
    "\n",
    "1. **the function $\\textit{f}$ relates each element of $\\textit{Z}$ with one and only one element of $\\textit{X}$ and $\\textit{Y}$, forming a set of ordered triplets $(x, y, z)$**.  \n",
    "2. **there is no real number $z$ for which the ordered triplet $(x, y, z)$ is defined, which implies that $f(x, y)$ is undefined**.\n",
    "\n",
    "Thinking in functions as input-output mapping machines, now our machine has two input units and one output. \n",
    "\n",
    "Consider the square function for two variables: $\\textit{f}(x, y) = x^2  + y^2$, which again, has as **domain** the set of all numbers in $\\textit{R}$ or $(-\\infty, \\infty)$, and the interval $[0, \\infty)$ as **range**.\n",
    "\n",
    "If we plot again this function, we will get a **smooth 3 dimnensional surface shaped as a bowl**. Keep in mind this shape as it will become important to understand minimizationa and maximiation problems.  "
   ]
  },
  {
   "cell_type": "code",
   "execution_count": 3,
   "metadata": {},
   "outputs": [],
   "source": [
    "import matplotlib.pyplot as plt\n",
    "from matplotlib import cm\n",
    "plt.style.use('dark_background')"
   ]
  },
  {
   "cell_type": "code",
   "execution_count": 4,
   "metadata": {},
   "outputs": [
    {
     "data": {
      "image/png": "[encoded data removed]",
      "text/plain": [
       "<Figure size 432x288 with 1 Axes>"
      ]
     },
     "metadata": {},
     "output_type": "display_data"
    }
   ],
   "source": [
    "X = np.arange(-5, 5, 0.25)\n",
    "Y = np.arange(-5, 5, 0.25)\n",
    "X, Y = np.meshgrid(X, Y)\n",
    "Z = X**2 + Y**2\n",
    "\n",
    "fig = plt.figure()\n",
    "\n",
    "ax = fig.gca(projection='3d')\n",
    "ax.plot_surface(X, Y, Z, cmap=cm.coolwarm,linewidth=0.1, antialiased=False)\n",
    "ax.view_init(30, 45)\n",
    "\n",
    "plt.show()"
   ]
  },
  {
   "cell_type": "markdown",
   "metadata": {},
   "source": [
    "## Functions of stright lines"
   ]
  },
  {
   "cell_type": "markdown",
   "metadata": {},
   "source": [
    "To continue..."
   ]
  },
  {
   "cell_type": "markdown",
   "metadata": {},
   "source": [
    "# Differential calculus"
   ]
  },
  {
   "cell_type": "markdown",
   "metadata": {},
   "source": [
    "In isolation, quantities of anything are more or less irrelevant from the differential calculus point of view. This branch of mathematics really only cares about **relations or rations among quantities**. Time and money in the bank, by themselves, are not of differential calculus concern. Now, the variation of money in the bank in relation to time, that is what calculus care about. Give it more of that! Such relationship between variables is often expressed in textbooks as the \"slope\" of the line. Differential calculus is about estimating the \"slope\" of the line in a 2-dimensional cartesian plane, with one variable in the horizontal axis and the other in the vertical axis. Yet, I rather prefer to use a more general term as \"derivative\" , \"differential coefficient\", or my favorite, as Newton called it, the \"fluxion\". Differential calculus as the study of \"fluxions\" sounds way cooler in my opinion. The point is that the \"slope\" of the line is an special case of the derivative, as \"speed\" or \"rate of inflation\", so it's better to get used to terms that are descriptors for the general case. "
   ]
  },
  {
   "cell_type": "markdown",
   "metadata": {},
   "source": [
    "## Differential calculus notation"
   ]
  },
  {
   "cell_type": "markdown",
   "metadata": {},
   "source": [
    "As I mentioned in the introduction, there are multiple notations in differential calculus, so I'll briefly review the most common ones, motivated by my conviction that a precise understanding of notation and the meaning of symbols is key to the study of mathematics for non-mathematicians. "
   ]
  },
  {
   "cell_type": "markdown",
   "metadata": {},
   "source": [
    "### Leibniz's notation"
   ]
  },
  {
   "cell_type": "markdown",
   "metadata": {},
   "source": [
    "In Leibniz's notation, we denote differentiation or \"little bits of something\" as:\n",
    "\n",
    "$$\n",
    "d\n",
    "$$\n",
    "\n",
    "Hence, a little bit of $x$ and $y$ are denoted as $dx$ and $dy$, respectively. Now, if we consider $y$ as a function of the variable $x$, we can express the ratio of an \"infinitesimal\" increment of $y$ in response to an \"infinitesimal\" change in $x$, i.e., the derivative (or \"fluxion\") of $y$ with respect to $x$ as:\n",
    "\n",
    "$$\n",
    "\\frac{dy}{dx}\n",
    "$$\n",
    "\n",
    "Alternatively, we can use the following notation who express the same idea:\n",
    "\n",
    "$$\n",
    "\\frac{d}{dx}y\n",
    "$$\n",
    "\n",
    "Which is also considered Leibniz's notation.\n",
    "\n",
    "As we will see later, the process of computing derivatives can be done multiple times in a sequence. When done twice, we call it the **second derivative**. The Leibniz's notation for this is:\n",
    "\n",
    "$$\n",
    "\\frac{d^2y}{dx}\n",
    "$$\n",
    "\n",
    "or \n",
    "\n",
    "$$\n",
    "\\frac{dy}{dx}\n",
    "\\left(\\frac{dy}{dx}\\right)\n",
    "$$\n",
    "\n",
    "Higher order derivatives will follow the same pattern."
   ]
  },
  {
   "cell_type": "markdown",
   "metadata": {},
   "source": [
    "### Lagrange's notation"
   ]
  },
  {
   "cell_type": "markdown",
   "metadata": {},
   "source": [
    "In Lagrange's notation, we denote differentiation or \"little bits of something\" as:\n",
    "\n",
    "$$\n",
    "\\textit{f}'\n",
    "$$\n",
    "\n",
    "In words: \"f prime\". Lagrange's notation is more commonly used for single variable functions of the form $\\textit{f}(x)$, which translate to:\n",
    "\n",
    "$$\n",
    "\\textit{f}''(x)\n",
    "$$\n",
    "\n",
    "Functions of the form $y=\\textit{f}(x)$, or an \"infinitesimal\" increment of $y$ in response to an \"infinitesimal\" change in $x$, i.e., the derivative (or \"fluxion\") of $y$ with respect to $x$ as is denoted as:\n",
    "\n",
    "$$\n",
    "y'=\\textit{f}'(x)\n",
    "$$ \n",
    "\n",
    "Which is equivalent to $\\frac{dy}{dx}$ in Leibniz's notation\n",
    "\n",
    "Although less frequent, you will find examples of people denoting $y'=\\textit{f}'(x)$ as $y'$, which I would discorague because its ambiguity.\n",
    "\n",
    "Higher order derivatives are expressed by simply adding more \"primes\" symbols. For instance, the **second derivative** in Lagrange's notation is:\n",
    "\n",
    "$$\n",
    "y''=\\textit{f}''(x)\n",
    "$$ "
   ]
  },
  {
   "cell_type": "markdown",
   "metadata": {},
   "source": [
    "### Newton's notation"
   ]
  },
  {
   "cell_type": "markdown",
   "metadata": {},
   "source": [
    "In Newton's notation, we denote differentiation or \"little bits of something\" as:\n",
    "\n",
    "$$\n",
    "\\dot x\n",
    "$$\n",
    "\n",
    "Functions of the form $y=\\textit{f}(x)$, or an \"infinitesimal\" increment of $y$ in response to an \"infinitesimal\" change in $x$, i.e., the derivative (or \"fluxion\") of $y$ with respect to $x$ as is denoted in the same manner:\n",
    "\n",
    "$$\n",
    "\\dot y\n",
    "$$\n",
    "\n",
    "Higher order derivatives are expressed by simply adding more \"dots\". For instance, the **second derivative** in Newtons's notation is:\n",
    "\n",
    "$$\n",
    "\\ddot y\n",
    "$$\n",
    "\n",
    "In my experience with Data Science and Machine Learning, Newton's notation is rarely used, probably (I'm guessing) because typesetting the dot at the top of the letter is annoying unless you use LaTeX. "
   ]
  },
  {
   "cell_type": "markdown",
   "metadata": {},
   "source": [
    "## When a little bit is too little"
   ]
  },
  {
   "cell_type": "markdown",
   "metadata": {},
   "source": [
    "To continue..."
   ]
  },
  {
   "cell_type": "markdown",
   "metadata": {},
   "source": [
    "## Little bits that can be omitted"
   ]
  },
  {
   "cell_type": "markdown",
   "metadata": {},
   "source": [
    "Let's say you have an square. If the side of an square is $x$, its area, which we will denote as $y$, equals to $x^2$. Therefore, que can define a function $\\textit{f}$ for the area of the square as:\n",
    "\n",
    "$$\n",
    "y = \\textit{f}(x^2)\n",
    "$$\n",
    "\n",
    "Now we can ask by **how much does the area $y$ increases, when increasing the lenght of $x$ by \"a little bit\"**. Using calculus notation, we can denote $x$ plus a \"little bit of $x$\" as $x + dx$, which yield the formula for the new area as:\n",
    "\n",
    "$$\n",
    "y = \\textit{f}((x + dx)^2)\n",
    "$$\n",
    "\n",
    "If we expand the quadratic equation we obtain:\n",
    "\n",
    "$$\n",
    "x^2 + 2xdx + dx^2\n",
    "$$\n",
    "\n",
    "Hence, to the original area $x^2$ we need to add $2xdx + dx^2$. If it is the case that $dx$ is an *infinitesimally small*,  $dx^2$ implies squaring two infinitesimally small quantities, which results into something so negligibly small that can be safely ignored, meaning that we can reduce the increment in area to simply $2xdx$. Recapitulating, the quantity added to the new area $y$ is $2xdx$, and the new total area equals to $x^2 + 2xdx$. \n",
    "\n",
    "Fortunately, this calculation is easy to illustrate graphically as in the image below:"
   ]
  },
  {
   "cell_type": "markdown",
   "metadata": {},
   "source": [
    "<<<< increment in the area plot >>>"
   ]
  },
  {
   "cell_type": "markdown",
   "metadata": {},
   "source": [
    "## Differential calculus example"
   ]
  },
  {
   "cell_type": "markdown",
   "metadata": {},
   "source": [
    "Imagine you are trying to measure the **average speed** at which [Steph Curry three point shoot travels from his hands to the hoop](https://www.youtube.com/watch?v=UbPnZLqiiDw). There is a simple solution: divide the distance the ball travel by the time it takes the ball to reach the hoop, something like:\n",
    "\n",
    "$\n",
    "\\frac{7.24m}{3.23s} = 2.24ms\n",
    "$\n",
    "\n",
    "This is al fine, but, it turns out, objects going up and down travel at different speeds at different points in time. So now we can ask about the speed of the basketball at specific points in time. One simple idea is to take very short interval around the point in time you are interested in, and compute the average for that time interval. Let's say, you are intersted in the speed halfway to the hoop, at $3.62$ meters.  \n",
    "\n",
    "To continue..."
   ]
  }
 ],
 "metadata": {
  "kernelspec": {
   "display_name": "Python 3",
   "language": "python",
   "name": "python3"
  },
  "language_info": {
   "codemirror_mode": {
    "name": "ipython",
    "version": 3
   },
   "file_extension": ".py",
   "mimetype": "text/x-python",
   "name": "python",
   "nbconvert_exporter": "python",
   "pygments_lexer": "ipython3",
   "version": "3.6.8"
  },
  "toc-showtags": false
 },
 "nbformat": 4,
 "nbformat_minor": 4
}
